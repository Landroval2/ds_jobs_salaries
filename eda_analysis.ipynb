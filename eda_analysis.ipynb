{
 "cells": [
  {
   "cell_type": "code",
   "execution_count": 33,
   "metadata": {},
   "outputs": [],
   "source": [
    "import pandas as pd\n",
    "import seaborn as sns\n",
    "import matplotlib.pyplot as plt"
   ]
  },
  {
   "cell_type": "code",
   "execution_count": 34,
   "metadata": {},
   "outputs": [],
   "source": [
    "df = pd.read_csv('job_data_cleaned.csv')"
   ]
  },
  {
   "cell_type": "code",
   "execution_count": 35,
   "metadata": {},
   "outputs": [
    {
     "data": {
      "text/plain": [
       "Index(['Unnamed: 0', 'Job Title', 'Salary Estimate', 'Job Description',\n",
       "       'Rating', 'Company Name', 'Location', 'Headquarters', 'Size', 'Founded',\n",
       "       'Type of ownership', 'Industry', 'Sector', 'Revenue', 'Competitors',\n",
       "       'min_salary', 'max_salary', 'avg_salary', 'state', 'age', 'python',\n",
       "       'r_studio', 'spark', 'aws', 'tableau', 'excel', 'ml'],\n",
       "      dtype='object')"
      ]
     },
     "execution_count": 35,
     "metadata": {},
     "output_type": "execute_result"
    }
   ],
   "source": [
    "df.columns"
   ]
  },
  {
   "cell_type": "code",
   "execution_count": 36,
   "metadata": {},
   "outputs": [],
   "source": [
    "def job_title_cleaning(title):\n",
    "    if 'data scientist' in title.lower():\n",
    "        return 'data_scientist'\n",
    "    elif 'data engineer' in title.lower():\n",
    "        return \"data_engineer\"\n",
    "    elif 'analyst' in title.lower():\n",
    "        return 'analyst'\n",
    "    elif 'machine learning' in title.lower():\n",
    "        return 'mle'\n",
    "    elif 'manager' in title.lower():\n",
    "        return 'manager'\n",
    "    elif 'director' in title.lower():\n",
    "        return 'director'\n",
    "    else:\n",
    "        return 'na'"
   ]
  },
  {
   "cell_type": "code",
   "execution_count": 37,
   "metadata": {},
   "outputs": [],
   "source": [
    "def seniority(title):\n",
    "    if 'sr' in title.lower() or 'senior' in title.lower() or 'lead' in title.lower() or 'principal' in title.lower():\n",
    "        return 'senior'\n",
    "    elif 'jr' in title.lower():\n",
    "        return 'junior'\n",
    "    else:\n",
    "        return 'na'\n",
    "    "
   ]
  },
  {
   "cell_type": "code",
   "execution_count": 40,
   "metadata": {},
   "outputs": [],
   "source": [
    "df['job_simplified'] = df['Job Title'].apply(job_title_cleaning)\n",
    "df['seniority'] = df['Job Title'].apply(seniority)"
   ]
  },
  {
   "cell_type": "code",
   "execution_count": 41,
   "metadata": {},
   "outputs": [
    {
     "data": {
      "text/plain": [
       "data_scientist    503\n",
       "na                171\n",
       "data_engineer      57\n",
       "analyst            37\n",
       "mle                19\n",
       "manager             9\n",
       "director            4\n",
       "Name: job_simplified, dtype: int64"
      ]
     },
     "execution_count": 41,
     "metadata": {},
     "output_type": "execute_result"
    }
   ],
   "source": [
    "df.job_simplified.value_counts()"
   ]
  },
  {
   "cell_type": "code",
   "execution_count": 42,
   "metadata": {},
   "outputs": [
    {
     "data": {
      "text/plain": [
       "na        600\n",
       "senior    200\n",
       "Name: seniority, dtype: int64"
      ]
     },
     "execution_count": 42,
     "metadata": {},
     "output_type": "execute_result"
    }
   ],
   "source": [
    "df.seniority.value_counts()"
   ]
  },
  {
   "cell_type": "code",
   "execution_count": null,
   "outputs": [],
   "source": [
    "df.state.value_counts()"
   ],
   "metadata": {
    "collapsed": false,
    "pycharm": {
     "name": "#%%\n"
    }
   }
  },
  {
   "cell_type": "code",
   "execution_count": 44,
   "metadata": {},
   "outputs": [
    {
     "data": {
      "text/plain": [
       "CA          122\n",
       "TX           68\n",
       "VA           65\n",
       "NY           50\n",
       "MA           46\n",
       "MD           39\n",
       "remote       36\n",
       "-1           32\n",
       "WA           31\n",
       "PA           30\n",
       "IL           25\n",
       "DC           24\n",
       "GA           24\n",
       "NJ           22\n",
       "OH           20\n",
       "AZ           19\n",
       "FL           18\n",
       "NC           14\n",
       "MN           12\n",
       "WI           10\n",
       "UT           10\n",
       "AL            7\n",
       "IA            7\n",
       "MI            7\n",
       "KS            6\n",
       "CT            6\n",
       "MO            6\n",
       "SC            5\n",
       "NV            5\n",
       "CO            5\n",
       "OR            4\n",
       "IN            4\n",
       "DE            3\n",
       "ME            2\n",
       "PR            2\n",
       "TN            2\n",
       "ID            2\n",
       "KY            2\n",
       "Arapahoe      1\n",
       "NM            1\n",
       "AK            1\n",
       "WV            1\n",
       "RI            1\n",
       "HI            1\n",
       "LA            1\n",
       "NE            1\n",
       "Name: state, dtype: int64"
      ]
     },
     "execution_count": 44,
     "metadata": {},
     "output_type": "execute_result"
    }
   ],
   "source": []
  },
  {
   "cell_type": "code",
   "execution_count": null,
   "metadata": {},
   "outputs": [],
   "source": []
  }
 ],
 "metadata": {
  "kernelspec": {
   "display_name": "Python 3",
   "language": "python",
   "name": "python3"
  },
  "language_info": {
   "codemirror_mode": {
    "name": "ipython",
    "version": 3
   },
   "file_extension": ".py",
   "mimetype": "text/x-python",
   "name": "python",
   "nbconvert_exporter": "python",
   "pygments_lexer": "ipython3",
   "version": "3.7.4"
  },
  "pycharm": {
   "stem_cell": {
    "cell_type": "raw",
    "source": [
     "import pandas as pd\n",
     "import matplotlib.pyplot as plt\n",
     "import seaborn as sns\n",
     "\n",
     "pd.read_csv('job_data_cleaned.csv')\n"
    ],
    "metadata": {
     "collapsed": false
    }
   }
  }
 },
 "nbformat": 4,
 "nbformat_minor": 4
}