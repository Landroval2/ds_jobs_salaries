{
 "cells": [
  {
   "cell_type": "code",
   "execution_count": 2,
   "source": [
    "import pandas as pd\r\n",
    "import seaborn as sns\r\n",
    "import matplotlib.pyplot as plt"
   ],
   "outputs": [],
   "metadata": {}
  },
  {
   "cell_type": "code",
   "execution_count": 3,
   "source": [
    "df = pd.read_csv('job_data_cleaned.csv')"
   ],
   "outputs": [],
   "metadata": {}
  },
  {
   "cell_type": "code",
   "execution_count": 4,
   "source": [
    "df.columns"
   ],
   "outputs": [
    {
     "output_type": "execute_result",
     "data": {
      "text/plain": [
       "Index(['Unnamed: 0', 'Job Title', 'Salary Estimate', 'Job Description',\n",
       "       'Rating', 'Company Name', 'Location', 'Headquarters', 'Size', 'Founded',\n",
       "       'Type of ownership', 'Industry', 'Sector', 'Revenue', 'Competitors',\n",
       "       'min_salary', 'max_salary', 'avg_salary', 'state', 'age', 'python',\n",
       "       'r_studio', 'spark', 'aws', 'tableau', 'excel', 'ml'],\n",
       "      dtype='object')"
      ]
     },
     "metadata": {},
     "execution_count": 4
    }
   ],
   "metadata": {}
  },
  {
   "cell_type": "code",
   "execution_count": 5,
   "source": [
    "def job_title_cleaning(title):\r\n",
    "    \"\"\"\r\n",
    "    input: Job titles as a string\r\n",
    "    output: A string containing one of the five basic categories or na if none apply \r\n",
    "    \"\"\"\r\n",
    "    if 'data scientist' in title.lower():\r\n",
    "        return 'data_scientist'\r\n",
    "    elif 'data engineer' in title.lower():\r\n",
    "        return \"data_engineer\"\r\n",
    "    elif 'analyst' in title.lower():\r\n",
    "        return 'analyst'\r\n",
    "    elif 'machine learning' in title.lower():\r\n",
    "        return 'mle'\r\n",
    "    elif 'manager' in title.lower():\r\n",
    "        return 'manager'\r\n",
    "    elif 'director' in title.lower():\r\n",
    "        return 'director'\r\n",
    "    else:\r\n",
    "        return 'na'"
   ],
   "outputs": [],
   "metadata": {}
  },
  {
   "cell_type": "code",
   "execution_count": 6,
   "source": [
    "def seniority(title):\r\n",
    "    if 'sr' in title.lower() or 'senior' in title.lower() or 'lead' in title.lower() or 'principal' in title.lower():\r\n",
    "        return 'senior'\r\n",
    "    elif 'jr' in title.lower():\r\n",
    "        return 'junior'\r\n",
    "    else:\r\n",
    "        return 'na'\r\n",
    "    "
   ],
   "outputs": [],
   "metadata": {}
  },
  {
   "cell_type": "code",
   "execution_count": 7,
   "source": [
    "# Simplify job description into 5 categories\r\n",
    "df['job_simplified'] = df['Job Title'].apply(job_title_cleaning)\r\n",
    "\r\n",
    "# Extract seniority information from jobt title\r\n",
    "df['seniority'] = df['Job Title'].apply(seniority)"
   ],
   "outputs": [],
   "metadata": {}
  },
  {
   "cell_type": "code",
   "execution_count": 16,
   "source": [
    "# Check number of jobs in each category\r\n",
    "df.job_simplified.value_counts()"
   ],
   "outputs": [
    {
     "output_type": "execute_result",
     "data": {
      "text/plain": [
       "data_scientist    503\n",
       "na                171\n",
       "data_engineer      57\n",
       "analyst            37\n",
       "mle                19\n",
       "manager             9\n",
       "director            4\n",
       "Name: job_simplified, dtype: int64"
      ]
     },
     "metadata": {},
     "execution_count": 16
    }
   ],
   "metadata": {}
  },
  {
   "cell_type": "code",
   "execution_count": 17,
   "source": [
    "# Check seniority distribution\r\n",
    "df.seniority.value_counts()"
   ],
   "outputs": [
    {
     "output_type": "execute_result",
     "data": {
      "text/plain": [
       "na        600\n",
       "senior    200\n",
       "Name: seniority, dtype: int64"
      ]
     },
     "metadata": {},
     "execution_count": 17
    }
   ],
   "metadata": {}
  },
  {
   "cell_type": "code",
   "execution_count": 18,
   "source": [
    "# Job description length\r\n",
    "df['desc_length'] = df['Job Description'].apply(lambda x: len(x))"
   ],
   "outputs": [],
   "metadata": {}
  },
  {
   "cell_type": "code",
   "execution_count": 19,
   "source": [
    "# \r\n",
    "df.desc_length.value_counts()"
   ],
   "outputs": [
    {
     "output_type": "execute_result",
     "data": {
      "text/plain": [
       "2495    4\n",
       "3361    3\n",
       "8173    3\n",
       "4286    3\n",
       "3204    3\n",
       "       ..\n",
       "1673    1\n",
       "2696    1\n",
       "1671    1\n",
       "3284    1\n",
       "3073    1\n",
       "Name: desc_length, Length: 679, dtype: int64"
      ]
     },
     "metadata": {},
     "execution_count": 19
    }
   ],
   "metadata": {}
  },
  {
   "cell_type": "code",
   "execution_count": 49,
   "source": [
    "# We didnt find any competitors while scraping\r\n",
    "df.Competitors.unique()"
   ],
   "outputs": [
    {
     "output_type": "execute_result",
     "data": {
      "text/plain": [
       "array([-1], dtype=int64)"
      ]
     },
     "metadata": {},
     "execution_count": 49
    }
   ],
   "metadata": {}
  },
  {
   "cell_type": "code",
   "execution_count": 20,
   "source": [
    "# \r\n",
    "df.describe()"
   ],
   "outputs": [
    {
     "output_type": "execute_result",
     "data": {
      "text/plain": [
       "       Unnamed: 0      Rating  Headquarters  Competitors  min_salary  \\\n",
       "count    800.0000  800.000000         800.0        800.0   800.00000   \n",
       "mean     399.5000    3.783125          -1.0         -1.0    76.50250   \n",
       "std      231.0844    1.151525           0.0          0.0    15.07254   \n",
       "min        0.0000   -1.000000          -1.0         -1.0    48.00000   \n",
       "25%      199.7500    3.700000          -1.0         -1.0    65.00000   \n",
       "50%      399.5000    4.000000          -1.0         -1.0    74.00000   \n",
       "75%      599.2500    4.300000          -1.0         -1.0    90.00000   \n",
       "max      799.0000    5.000000          -1.0         -1.0   104.00000   \n",
       "\n",
       "       max_salary  avg_salary         age      python    r_studio       spark  \\\n",
       "count  800.000000  800.000000  680.000000  800.000000  800.000000  800.000000   \n",
       "mean   142.573750  109.538125   51.302941    0.082500    0.002500    0.036250   \n",
       "std     27.060763   20.621009   50.563913    0.275297    0.049969    0.187029   \n",
       "min     97.000000   73.500000    1.000000    0.000000    0.000000    0.000000   \n",
       "25%    127.000000   94.500000   16.000000    0.000000    0.000000    0.000000   \n",
       "50%    136.000000  108.000000   34.000000    0.000000    0.000000    0.000000   \n",
       "75%    158.000000  122.000000   73.000000    0.000000    0.000000    0.000000   \n",
       "max    196.000000  146.500000  275.000000    1.000000    1.000000    1.000000   \n",
       "\n",
       "              aws     tableau       excel          ml   desc_length  \n",
       "count  800.000000  800.000000  800.000000  800.000000    800.000000  \n",
       "mean     0.052500    0.028750    0.252500    0.253750   3885.537500  \n",
       "std      0.223173    0.167208    0.434718    0.435428   1843.944127  \n",
       "min      0.000000    0.000000    0.000000    0.000000     60.000000  \n",
       "25%      0.000000    0.000000    0.000000    0.000000   2695.000000  \n",
       "50%      0.000000    0.000000    0.000000    0.000000   3596.500000  \n",
       "75%      0.000000    0.000000    1.000000    1.000000   4766.500000  \n",
       "max      1.000000    1.000000    1.000000    1.000000  18466.000000  "
      ],
      "text/html": [
       "<div>\n",
       "<style scoped>\n",
       "    .dataframe tbody tr th:only-of-type {\n",
       "        vertical-align: middle;\n",
       "    }\n",
       "\n",
       "    .dataframe tbody tr th {\n",
       "        vertical-align: top;\n",
       "    }\n",
       "\n",
       "    .dataframe thead th {\n",
       "        text-align: right;\n",
       "    }\n",
       "</style>\n",
       "<table border=\"1\" class=\"dataframe\">\n",
       "  <thead>\n",
       "    <tr style=\"text-align: right;\">\n",
       "      <th></th>\n",
       "      <th>Unnamed: 0</th>\n",
       "      <th>Rating</th>\n",
       "      <th>Headquarters</th>\n",
       "      <th>Competitors</th>\n",
       "      <th>min_salary</th>\n",
       "      <th>max_salary</th>\n",
       "      <th>avg_salary</th>\n",
       "      <th>age</th>\n",
       "      <th>python</th>\n",
       "      <th>r_studio</th>\n",
       "      <th>spark</th>\n",
       "      <th>aws</th>\n",
       "      <th>tableau</th>\n",
       "      <th>excel</th>\n",
       "      <th>ml</th>\n",
       "      <th>desc_length</th>\n",
       "    </tr>\n",
       "  </thead>\n",
       "  <tbody>\n",
       "    <tr>\n",
       "      <th>count</th>\n",
       "      <td>800.0000</td>\n",
       "      <td>800.000000</td>\n",
       "      <td>800.0</td>\n",
       "      <td>800.0</td>\n",
       "      <td>800.00000</td>\n",
       "      <td>800.000000</td>\n",
       "      <td>800.000000</td>\n",
       "      <td>680.000000</td>\n",
       "      <td>800.000000</td>\n",
       "      <td>800.000000</td>\n",
       "      <td>800.000000</td>\n",
       "      <td>800.000000</td>\n",
       "      <td>800.000000</td>\n",
       "      <td>800.000000</td>\n",
       "      <td>800.000000</td>\n",
       "      <td>800.000000</td>\n",
       "    </tr>\n",
       "    <tr>\n",
       "      <th>mean</th>\n",
       "      <td>399.5000</td>\n",
       "      <td>3.783125</td>\n",
       "      <td>-1.0</td>\n",
       "      <td>-1.0</td>\n",
       "      <td>76.50250</td>\n",
       "      <td>142.573750</td>\n",
       "      <td>109.538125</td>\n",
       "      <td>51.302941</td>\n",
       "      <td>0.082500</td>\n",
       "      <td>0.002500</td>\n",
       "      <td>0.036250</td>\n",
       "      <td>0.052500</td>\n",
       "      <td>0.028750</td>\n",
       "      <td>0.252500</td>\n",
       "      <td>0.253750</td>\n",
       "      <td>3885.537500</td>\n",
       "    </tr>\n",
       "    <tr>\n",
       "      <th>std</th>\n",
       "      <td>231.0844</td>\n",
       "      <td>1.151525</td>\n",
       "      <td>0.0</td>\n",
       "      <td>0.0</td>\n",
       "      <td>15.07254</td>\n",
       "      <td>27.060763</td>\n",
       "      <td>20.621009</td>\n",
       "      <td>50.563913</td>\n",
       "      <td>0.275297</td>\n",
       "      <td>0.049969</td>\n",
       "      <td>0.187029</td>\n",
       "      <td>0.223173</td>\n",
       "      <td>0.167208</td>\n",
       "      <td>0.434718</td>\n",
       "      <td>0.435428</td>\n",
       "      <td>1843.944127</td>\n",
       "    </tr>\n",
       "    <tr>\n",
       "      <th>min</th>\n",
       "      <td>0.0000</td>\n",
       "      <td>-1.000000</td>\n",
       "      <td>-1.0</td>\n",
       "      <td>-1.0</td>\n",
       "      <td>48.00000</td>\n",
       "      <td>97.000000</td>\n",
       "      <td>73.500000</td>\n",
       "      <td>1.000000</td>\n",
       "      <td>0.000000</td>\n",
       "      <td>0.000000</td>\n",
       "      <td>0.000000</td>\n",
       "      <td>0.000000</td>\n",
       "      <td>0.000000</td>\n",
       "      <td>0.000000</td>\n",
       "      <td>0.000000</td>\n",
       "      <td>60.000000</td>\n",
       "    </tr>\n",
       "    <tr>\n",
       "      <th>25%</th>\n",
       "      <td>199.7500</td>\n",
       "      <td>3.700000</td>\n",
       "      <td>-1.0</td>\n",
       "      <td>-1.0</td>\n",
       "      <td>65.00000</td>\n",
       "      <td>127.000000</td>\n",
       "      <td>94.500000</td>\n",
       "      <td>16.000000</td>\n",
       "      <td>0.000000</td>\n",
       "      <td>0.000000</td>\n",
       "      <td>0.000000</td>\n",
       "      <td>0.000000</td>\n",
       "      <td>0.000000</td>\n",
       "      <td>0.000000</td>\n",
       "      <td>0.000000</td>\n",
       "      <td>2695.000000</td>\n",
       "    </tr>\n",
       "    <tr>\n",
       "      <th>50%</th>\n",
       "      <td>399.5000</td>\n",
       "      <td>4.000000</td>\n",
       "      <td>-1.0</td>\n",
       "      <td>-1.0</td>\n",
       "      <td>74.00000</td>\n",
       "      <td>136.000000</td>\n",
       "      <td>108.000000</td>\n",
       "      <td>34.000000</td>\n",
       "      <td>0.000000</td>\n",
       "      <td>0.000000</td>\n",
       "      <td>0.000000</td>\n",
       "      <td>0.000000</td>\n",
       "      <td>0.000000</td>\n",
       "      <td>0.000000</td>\n",
       "      <td>0.000000</td>\n",
       "      <td>3596.500000</td>\n",
       "    </tr>\n",
       "    <tr>\n",
       "      <th>75%</th>\n",
       "      <td>599.2500</td>\n",
       "      <td>4.300000</td>\n",
       "      <td>-1.0</td>\n",
       "      <td>-1.0</td>\n",
       "      <td>90.00000</td>\n",
       "      <td>158.000000</td>\n",
       "      <td>122.000000</td>\n",
       "      <td>73.000000</td>\n",
       "      <td>0.000000</td>\n",
       "      <td>0.000000</td>\n",
       "      <td>0.000000</td>\n",
       "      <td>0.000000</td>\n",
       "      <td>0.000000</td>\n",
       "      <td>1.000000</td>\n",
       "      <td>1.000000</td>\n",
       "      <td>4766.500000</td>\n",
       "    </tr>\n",
       "    <tr>\n",
       "      <th>max</th>\n",
       "      <td>799.0000</td>\n",
       "      <td>5.000000</td>\n",
       "      <td>-1.0</td>\n",
       "      <td>-1.0</td>\n",
       "      <td>104.00000</td>\n",
       "      <td>196.000000</td>\n",
       "      <td>146.500000</td>\n",
       "      <td>275.000000</td>\n",
       "      <td>1.000000</td>\n",
       "      <td>1.000000</td>\n",
       "      <td>1.000000</td>\n",
       "      <td>1.000000</td>\n",
       "      <td>1.000000</td>\n",
       "      <td>1.000000</td>\n",
       "      <td>1.000000</td>\n",
       "      <td>18466.000000</td>\n",
       "    </tr>\n",
       "  </tbody>\n",
       "</table>\n",
       "</div>"
      ]
     },
     "metadata": {},
     "execution_count": 20
    }
   ],
   "metadata": {}
  },
  {
   "cell_type": "markdown",
   "source": [
    "## Plotting some of the numerical columns to study their distributions"
   ],
   "metadata": {}
  },
  {
   "cell_type": "markdown",
   "source": [
    "df.rating.hist()"
   ],
   "metadata": {}
  },
  {
   "cell_type": "markdown",
   "source": [],
   "metadata": {}
  }
 ],
 "metadata": {
  "kernelspec": {
   "name": "python3",
   "display_name": "Python 3.8.5 64-bit"
  },
  "language_info": {
   "codemirror_mode": {
    "name": "ipython",
    "version": 3
   },
   "file_extension": ".py",
   "mimetype": "text/x-python",
   "name": "python",
   "nbconvert_exporter": "python",
   "pygments_lexer": "ipython3",
   "version": "3.8.5"
  },
  "interpreter": {
   "hash": "51a56b03830b5e6f09f4764375549b2316220e0f14af250435d4a2f54a6e7cae"
  }
 },
 "nbformat": 4,
 "nbformat_minor": 4
}